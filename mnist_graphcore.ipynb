{
 "cells": [
  {
   "cell_type": "markdown",
   "id": "56a5d467-bd4d-4ef3-8716-0d661c30d6db",
   "metadata": {
    "gradient": {
     "editing": false,
     "id": "56a5d467-bd4d-4ef3-8716-0d661c30d6db",
     "kernelId": ""
    }
   },
   "source": [
    "# Graphcore MNIST Sample"
   ]
  },
  {
   "cell_type": "code",
   "execution_count": null,
   "id": "00f1c87a-5df6-4830-a2b9-6b4c5a233186",
   "metadata": {
    "collapsed": false,
    "gradient": {
     "editing": false,
     "id": "00f1c87a-5df6-4830-a2b9-6b4c5a233186",
     "kernelId": "",
     "source_hidden": false
    }
   },
   "outputs": [],
   "source": [
    "!gc-info -l\n",
    "# the list"
   ]
  },
  {
   "cell_type": "code",
   "execution_count": null,
   "id": "ea643c3a-3972-45f2-8690-3fec34cd564f",
   "metadata": {
    "collapsed": false,
    "gradient": {
     "editing": false,
     "id": "ea643c3a-3972-45f2-8690-3fec34cd564f",
     "kernelId": "",
     "source_hidden": false
    }
   },
   "outputs": [],
   "source": [
    "!gc-reset"
   ]
  },
  {
   "cell_type": "code",
   "execution_count": null,
   "id": "35cb6896-2a7c-4eff-9a6c-57a29d26bbea",
   "metadata": {
    "collapsed": false,
    "gradient": {
     "editing": false,
     "id": "35cb6896-2a7c-4eff-9a6c-57a29d26bbea",
     "kernelId": "",
     "source_hidden": false
    }
   },
   "outputs": [],
   "source": [
    "import tensorflow as tf"
   ]
  },
  {
   "cell_type": "code",
   "execution_count": null,
   "id": "d869e56e-c802-42c6-80f9-0a022aecb54e",
   "metadata": {
    "collapsed": false,
    "gradient": {
     "editing": false,
     "id": "d869e56e-c802-42c6-80f9-0a022aecb54e",
     "kernelId": "",
     "source_hidden": false
    }
   },
   "outputs": [],
   "source": [
    "from tensorflow import keras\n",
    "from tensorflow.python import ipu"
   ]
  },
  {
   "cell_type": "code",
   "execution_count": null,
   "id": "a4c329d7-f26a-4a54-811a-5684dd59e3ed",
   "metadata": {
    "collapsed": false,
    "gradient": {
     "editing": false,
     "id": "a4c329d7-f26a-4a54-811a-5684dd59e3ed",
     "kernelId": "",
     "source_hidden": false
    }
   },
   "outputs": [],
   "source": [
    "if tf.__version__[0] != '2':\n",
    "    raise ImportError(\"TensorFlow 2 is required for this example\")"
   ]
  },
  {
   "cell_type": "code",
   "execution_count": null,
   "id": "5d0593ce-28aa-42ab-a7bb-aba08448a772",
   "metadata": {
    "collapsed": false,
    "gradient": {
     "editing": false,
     "id": "5d0593ce-28aa-42ab-a7bb-aba08448a772",
     "kernelId": "",
     "source_hidden": false
    }
   },
   "outputs": [],
   "source": [
    "# The input data and labels.\n",
    "def create_dataset():\n",
    "    mnist = keras.datasets.mnist\n",
    "\n",
    "    (x_train, y_train), (x_test, y_test) = mnist.load_data()\n",
    "    x_train, x_test = x_train / 255.0, x_test / 255.0\n",
    "\n",
    "    # Add a channels dimension.\n",
    "    x_train = x_train[..., tf.newaxis]\n",
    "    x_test = x_test[..., tf.newaxis]\n",
    "\n",
    "    train_ds = tf.data.Dataset.from_tensor_slices(\n",
    "        (x_train, y_train)).shuffle(10000).batch(32, drop_remainder=True)\n",
    "    train_ds = train_ds.map(\n",
    "        lambda d, l: (tf.cast(d, tf.float32), tf.cast(l, tf.float32)))\n",
    "\n",
    "    return train_ds.repeat()"
   ]
  },
  {
   "cell_type": "code",
   "execution_count": null,
   "id": "2597b0ba-54c2-4d08-be42-af5c8a5dbc84",
   "metadata": {
    "collapsed": false,
    "gradient": {
     "editing": false,
     "id": "2597b0ba-54c2-4d08-be42-af5c8a5dbc84",
     "kernelId": "",
     "source_hidden": false
    }
   },
   "outputs": [],
   "source": [
    "# Create the model using standard Keras Sequential class\n",
    "def create_model():\n",
    "    model = keras.Sequential([\n",
    "        keras.layers.Flatten(),\n",
    "        keras.layers.Dense(128, activation='relu'),\n",
    "        keras.layers.Dense(10, activation='softmax')])\n",
    "    return model"
   ]
  },
  {
   "cell_type": "code",
   "execution_count": null,
   "id": "756f6759-cbc9-46bb-af01-cbe79540a020",
   "metadata": {
    "collapsed": false,
    "gradient": {
     "editing": false,
     "id": "756f6759-cbc9-46bb-af01-cbe79540a020",
     "kernelId": "",
     "source_hidden": false
    }
   },
   "outputs": [],
   "source": [
    "def main():\n",
    "    # Configure the IPU system\n",
    "    cfg = ipu.config.IPUConfig()\n",
    "    cfg.auto_select_ipus = 4\n",
    "    cfg.configure_ipu_system()\n",
    "\n",
    "    # Create an IPU distribution strategy.\n",
    "    strategy = ipu.ipu_strategy.IPUStrategyV1()\n",
    "\n",
    "    with strategy.scope():\n",
    "        # Create an instance of the model.\n",
    "        model = create_model()\n",
    "\n",
    "        # Get the training dataset.\n",
    "        ds = create_dataset()\n",
    "\n",
    "        # Train the model.\n",
    "        model.compile(loss = keras.losses.SparseCategoricalCrossentropy(),\n",
    "                      optimizer = keras.optimizers.SGD(),\n",
    "                      steps_per_execution=100)\n",
    "        model.fit(ds, steps_per_epoch=2000, epochs=4)\n",
    "\n",
    "        model.save('my-trained-model')"
   ]
  },
  {
   "cell_type": "code",
   "execution_count": null,
   "id": "aa9c237c-d789-45f8-8e75-648636d225a2",
   "metadata": {
    "collapsed": false,
    "gradient": {
     "editing": false,
     "id": "aa9c237c-d789-45f8-8e75-648636d225a2",
     "kernelId": "",
     "source_hidden": false
    }
   },
   "outputs": [],
   "source": [
    "main()"
   ]
  }
 ],
 "metadata": {},
 "nbformat": 4,
 "nbformat_minor": 5
}
